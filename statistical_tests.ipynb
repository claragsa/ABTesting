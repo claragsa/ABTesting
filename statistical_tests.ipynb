{
 "cells": [
  {
   "cell_type": "code",
   "execution_count": 26,
   "id": "e5eeb9a3",
   "metadata": {},
   "outputs": [],
   "source": [
    "import pandas as pd\n",
    "import numpy as np\n",
    "from statsmodels.stats.power import TTestIndPower\n",
    "from scipy import stats"
   ]
  },
  {
   "cell_type": "code",
   "execution_count": 2,
   "id": "90a0d1bc",
   "metadata": {},
   "outputs": [],
   "source": [
    "df = pd.read_parquet(r'data\\clean\\cleaned_data.parquet')"
   ]
  },
  {
   "cell_type": "code",
   "execution_count": 4,
   "id": "ed5d40ca",
   "metadata": {},
   "outputs": [
    {
     "name": "stdout",
     "output_type": "stream",
     "text": [
      "experiment\n",
      "control    4071\n",
      "exposed    4006\n",
      "dtype: int64\n"
     ]
    }
   ],
   "source": [
    "print(df.groupby('experiment').size())"
   ]
  },
  {
   "cell_type": "code",
   "execution_count": null,
   "id": "73da8078",
   "metadata": {},
   "outputs": [
    {
     "name": "stdout",
     "output_type": "stream",
     "text": [
      "Mean Responded:experiment\n",
      "control    0.143945\n",
      "exposed    0.164004\n",
      "Name: responded, dtype: float64\n",
      "\n",
      "Mean Not Responded:experiment\n",
      "control    0.856055\n",
      "exposed    0.835996\n",
      "Name: not_responded, dtype: float64\n",
      "\n",
      "Standard Deviation Responded:experiment\n",
      "control    0.351077\n",
      "exposed    0.370325\n",
      "Name: responded, dtype: float64\n",
      "\n",
      "Standard Deviation Not Responded:experiment\n",
      "control    0.351077\n",
      "exposed    0.370325\n",
      "Name: not_responded, dtype: float64\n"
     ]
    }
   ],
   "source": [
    "#---------Means and Standard Deviations Calculation---------\n",
    "df['responded'] = df[['yes', 'no']].sum(axis=1)\n",
    "df['responded'] = df['responded'].apply(lambda x: 1 if x >=  1 else 0)\n",
    "mean_responded = df.groupby('experiment')['responded'].mean()\n",
    "\n",
    "df['not_responded'] = df['responded'].apply(lambda x: 1 if x == 0 else 0)\n",
    "mean_notresponded = df.groupby('experiment')['not_responded'].mean()\n",
    "\n",
    "print(f\"Mean Responded:{mean_responded}\")\n",
    "print(f\"\\nMean Not Responded:{mean_notresponded}\")\n",
    "\n",
    "std_dev_responded = df.groupby('experiment')['responded'].std()\n",
    "std_dev_notresponded = df.groupby('experiment')['not_responded'].std()\n",
    "\n",
    "print(f\"\\nStandard Deviation Responded:{std_dev_responded}\")\n",
    "print(f\"\\nStandard Deviation Not Responded:{std_dev_notresponded}\")"
   ]
  },
  {
   "cell_type": "code",
   "execution_count": null,
   "id": "f1ec4a8b",
   "metadata": {},
   "outputs": [
    {
     "name": "stdout",
     "output_type": "stream",
     "text": [
      "\n",
      "Responded Standard Deviation Combined: 0.3608\n"
     ]
    }
   ],
   "source": [
    "#---------Pooled Standard Deviation Calculation---------\n",
    "n1 = 4071 # control group size\n",
    "n2 = 4006 # exposed group size\n",
    "s1 = 0.351077 #standard deviation control group\n",
    "s2 = 0.370325  #standard deviation exposed group\n",
    "\n",
    "S_combined_responded = np.sqrt(\n",
    "    ((n1-1)*s1**2 + (n2-1)*s2**2)/(n1+n2 -2)\n",
    ")\n",
    "\n",
    "print(f\"\\nResponded Pooled Standard: {S_combined_responded:.4f}\")"
   ]
  },
  {
   "cell_type": "code",
   "execution_count": 11,
   "id": "1eda0030",
   "metadata": {},
   "outputs": [
    {
     "name": "stdout",
     "output_type": "stream",
     "text": [
      "Cohen's d for Responded: 0.06\n"
     ]
    }
   ],
   "source": [
    "#---------Effect Size Calculation---------\n",
    "effect_size_responded = (mean_responded['exposed'] - mean_responded['control'])/S_combined_responded\n",
    "print(f'Cohen\\'s d for Responded: {effect_size_responded:.2f}')"
   ]
  },
  {
   "cell_type": "code",
   "execution_count": 25,
   "id": "c24f8dc1",
   "metadata": {},
   "outputs": [
    {
     "name": "stdout",
     "output_type": "stream",
     "text": [
      "Statistical Power: 0.80\n"
     ]
    }
   ],
   "source": [
    "#---------Statistical Power---------\n",
    "analysis = TTestIndPower()\n",
    "power = analysis.power(effect_size = effect_size_responded, nobs1=n1, alpha=0.096) #alpha > 0.05 for study purposes (can't increase sample size)\n",
    "print(f'Statistical Power: {power:.2f}')"
   ]
  },
  {
   "cell_type": "code",
   "execution_count": 27,
   "id": "b6f1b2e8",
   "metadata": {},
   "outputs": [
    {
     "name": "stdout",
     "output_type": "stream",
     "text": [
      "t = -2.497, p-value = 0.013\n"
     ]
    }
   ],
   "source": [
    "#---------Testing Hypothesis---------\n",
    "control = df.loc[df['experiment'] == 'control', 'responded'].values\n",
    "exposed = df.loc[df['experiment'] == 'exposed', 'responded'].values\n",
    "\n",
    "t_stat, p_value = stats.ttest_ind(control, exposed, equal_var=False)\n",
    "print(f't = {t_stat:.3f}, p-value = {p_value:.3f}')"
   ]
  }
 ],
 "metadata": {
  "kernelspec": {
   "display_name": "base",
   "language": "python",
   "name": "python3"
  },
  "language_info": {
   "codemirror_mode": {
    "name": "ipython",
    "version": 3
   },
   "file_extension": ".py",
   "mimetype": "text/x-python",
   "name": "python",
   "nbconvert_exporter": "python",
   "pygments_lexer": "ipython3",
   "version": "3.12.7"
  }
 },
 "nbformat": 4,
 "nbformat_minor": 5
}
