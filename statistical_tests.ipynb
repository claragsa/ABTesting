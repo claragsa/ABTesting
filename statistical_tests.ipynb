{
 "cells": [
  {
   "cell_type": "code",
   "execution_count": 10,
   "id": "e5eeb9a3",
   "metadata": {},
   "outputs": [],
   "source": [
    "import pandas as pd\n",
    "import numpy as np\n",
    "import matplotlib.pyplot as plt\n",
    "from scipy import stats\n",
    "from statsmodels.stats.power import NormalIndPower\n",
    "from statsmodels.stats.proportion import proportion_effectsize, proportions_ztest"
   ]
  },
  {
   "cell_type": "code",
   "execution_count": 11,
   "id": "90a0d1bc",
   "metadata": {},
   "outputs": [],
   "source": [
    "df = pd.read_parquet(r'data\\clean\\cleaned_data.parquet')"
   ]
  },
  {
   "cell_type": "code",
   "execution_count": 12,
   "id": "ed5d40ca",
   "metadata": {},
   "outputs": [
    {
     "name": "stdout",
     "output_type": "stream",
     "text": [
      "experiment\n",
      "control    4071\n",
      "exposed    4006\n",
      "dtype: int64\n"
     ]
    }
   ],
   "source": [
    "print(df.groupby('experiment').size())"
   ]
  },
  {
   "cell_type": "code",
   "execution_count": 13,
   "id": "73da8078",
   "metadata": {},
   "outputs": [
    {
     "name": "stdout",
     "output_type": "stream",
     "text": [
      "Conversion Rate Control: 14.39%\n",
      "Conversion Rate Exposed: 16.40%\n",
      "Absolute Difference: 2.01%\n"
     ]
    }
   ],
   "source": [
    "#---------Data preparation---------\n",
    "df['responded'] = df[['yes', 'no']].sum(axis=1)\n",
    "df['responded'] = df['responded'].apply(lambda x: 1 if x >=  1 else 0)\n",
    "\n",
    "#group counts\n",
    "control = df[df['experiment'] == 'control']\n",
    "exposed = df[df['experiment'] == 'exposed']\n",
    "\n",
    "#conversions and users per group\n",
    "conversions = [exposed['responded'].sum(), control['responded'].sum() ]\n",
    "nobs = [len(exposed), len(control)]\n",
    "\n",
    "#conversion rates\n",
    "control_cr = conversions[1]/nobs[1]\n",
    "exposed_cr = conversions[0]/nobs[0]\n",
    "\n",
    "print(f'Conversion Rate Control: {control_cr:.2%}')\n",
    "print(f'Conversion Rate Exposed: {exposed_cr:.2%}')\n",
    "print(f'Absolute Difference: {exposed_cr - control_cr:.2%}')\n"
   ]
  },
  {
   "cell_type": "code",
   "execution_count": 14,
   "id": "a1357d20",
   "metadata": {},
   "outputs": [
    {
     "name": "stdout",
     "output_type": "stream",
     "text": [
      "\n",
      "Cohen's h (effect size): 0.0556\n",
      "Statistical Power: 0.8034\n",
      "The statistical power is sufficient (greater than 80%)\n"
     ]
    }
   ],
   "source": [
    "#---------Statistical Power---------\n",
    "effect_size_responded = proportion_effectsize(exposed_cr, control_cr)\n",
    "analysis = NormalIndPower()\n",
    "power = analysis.power(effect_size = effect_size_responded, nobs1=nobs[0], alpha = 0.05, ratio = nobs[1]/nobs[0], alternative= 'larger')\n",
    "\n",
    "print(f'\\nCohen\\'s h (effect size): {effect_size_responded:.4f}')\n",
    "print(f'Statistical Power: {power:.4f}')\n",
    "\n",
    "if power >= 0.80:\n",
    "    print('The statistical power is sufficient (greater than 80%)')\n",
    "else:\n",
    "    print('The statistical power is insufficient (less than 80%)')"
   ]
  },
  {
   "cell_type": "code",
   "execution_count": 15,
   "id": "f1ec4a8b",
   "metadata": {},
   "outputs": [
    {
     "name": "stdout",
     "output_type": "stream",
     "text": [
      "\n",
      "Z-statistic:2.4979\n",
      "P-value: 0.0062\n",
      "Result: Sucess to reject the null hypothesis. There is a significant difference in conversions.\n"
     ]
    }
   ],
   "source": [
    "#---------Unilateral Testing---------\n",
    "z_stat, p_value = proportions_ztest(count = conversions, nobs = nobs, alternative = 'larger')\n",
    "print(f'\\nZ-statistic:{z_stat:.4f}')\n",
    "print(f'P-value: {p_value:.4f}')\n",
    "\n",
    "if p_value < 0.05:\n",
    "    print('Result: Sucess to reject the null hypothesis. There is a significant difference in conversions.')\n",
    "else:\n",
    "    print('Result: Fail to reject the null hypothesis. There is no significant difference in conversions.')\n"
   ]
  }
 ],
 "metadata": {
  "kernelspec": {
   "display_name": "base",
   "language": "python",
   "name": "python3"
  },
  "language_info": {
   "codemirror_mode": {
    "name": "ipython",
    "version": 3
   },
   "file_extension": ".py",
   "mimetype": "text/x-python",
   "name": "python",
   "nbconvert_exporter": "python",
   "pygments_lexer": "ipython3",
   "version": "3.12.7"
  }
 },
 "nbformat": 4,
 "nbformat_minor": 5
}
